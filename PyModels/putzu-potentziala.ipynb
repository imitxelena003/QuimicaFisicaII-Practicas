{
 "cells": [
  {
   "cell_type": "code",
   "execution_count": 16,
   "metadata": {},
   "outputs": [],
   "source": [
    "import numpy as np\n",
    "import scipy.linalg as spla\n",
    "import matplotlib as mpl\n",
    "import matplotlib.pyplot as plt"
   ]
  },
  {
   "cell_type": "markdown",
   "metadata": {},
   "source": [
    "# Putzu potentziala\n",
    "\n"
   ]
  },
  {
   "cell_type": "markdown",
   "metadata": {},
   "source": [
    "Hirugarren praktika honetan putzu potentziala deritzogun potentziala aztertu dugu, edo partikula altuera finituko kaxa batean. Sistema honetan partikula ondoko potentzialaren menpe dago: $V(x)=-D$ baldin eta $-L<x<L$."
   ]
  },
  {
   "cell_type": "markdown",
   "metadata": {},
   "source": [
    "Unitate atomikoak eta problemaren ezaugarriak zehaztu:"
   ]
  },
  {
   "cell_type": "code",
   "execution_count": 17,
   "metadata": {},
   "outputs": [],
   "source": [
    "# unitate atomikoak\n",
    "hbar = 1.0\n",
    "m = 1.0\n",
    "# zehaztu zenbat puntu ezberdin egongo dira\n",
    "steps = 2000"
   ]
  },
  {
   "cell_type": "markdown",
   "metadata": {},
   "source": [
    "Ondoren  putzuaren luzera (L) eta altuera (D) zehaztu:"
   ]
  },
  {
   "cell_type": "code",
   "execution_count": 18,
   "metadata": {},
   "outputs": [],
   "source": [
    "D = 100.0\n",
    "W = 1.0\n",
    "L = W / 2.0"
   ]
  },
  {
   "cell_type": "code",
   "execution_count": 19,
   "metadata": {},
   "outputs": [],
   "source": [
    "# x bektorea sortu [-L,L] tartean\n",
    "xvec = np.linspace(-W, W, steps)\n",
    "# lortu pauso bakoitzaren luzera\n",
    "h = xvec[1] - xvec[0]"
   ]
  },
  {
   "cell_type": "markdown",
   "metadata": {},
   "source": [
    "Putzu potentziala Hamiltondarrean sartu beharra dago, x balio posible guztietarako definitu behar dugularik:\n",
    "\\begin{equation}\n",
    "    \\hat{H} = -\\frac{\\hbar}{2m^2}\\nabla^2 + V(x),\\hspace{0.5cm}V(x)=\\begin{Bmatrix} -D & if\\hspace{0.5cm}-L<x<L \\\\ 0 & beste\\hspace{0.1cm}kasuetan \\end{Bmatrix}\n",
    "\\end{equation}\n",
    "Hasteko, potentziala kalkulatzen dugu matrize formatuan:"
   ]
  },
  {
   "cell_type": "code",
   "execution_count": 20,
   "metadata": {},
   "outputs": [],
   "source": [
    "def well_potential(L, x, D):\n",
    "    pot = -D*(np.sign(x+L) - np.sign(x-L))\n",
    "    return pot\n",
    "\n",
    "U = well_potential(L, xvec, D)"
   ]
  },
  {
   "cell_type": "markdown",
   "metadata": {},
   "source": [
    "Ondoren, Laplaziarra matrize baten moduan idatzi 'diferentzia finituak' delako metodoaz baliatuz:\n",
    "\n",
    "\\begin{equation}\n",
    "f''(x)\\simeq \\frac{f(x+h) - 2f(x) + f(x-h)}{h^2}\n",
    "\\end{equation}"
   ]
  },
  {
   "cell_type": "code",
   "execution_count": 21,
   "metadata": {},
   "outputs": [],
   "source": [
    "\n",
    "Laplacian = (-2.0*np.diag(np.ones(steps)) + \\\n",
    "             np.diag(np.ones(steps-1),1) + \\\n",
    "             np.diag(np.ones(steps-1),-1))/(float)(h**2)"
   ]
  },
  {
   "cell_type": "code",
   "execution_count": 22,
   "metadata": {},
   "outputs": [],
   "source": [
    "# create the Hamiltonian\n",
    "Hamiltonian = np.zeros((steps,steps))\n",
    "[i,j] = np.indices(Hamiltonian.shape)\n",
    "Hamiltonian[i==j] = U\n",
    "Hamiltonian += (-0.5)*((hbar**2)/m)*Laplacian"
   ]
  },
  {
   "cell_type": "markdown",
   "metadata": {},
   "source": [
    "Bektore (*eigenvectors*) eta balore (*eigenvalues*) propiak lortzeko Scipy-ren `eigh` funtzioa erabili:"
   ]
  },
  {
   "cell_type": "code",
   "execution_count": 23,
   "metadata": {},
   "outputs": [],
   "source": [
    "def diagonalize_hamiltonian(Hamiltonian):\n",
    "    return spla.eigh(Hamiltonian)"
   ]
  },
  {
   "cell_type": "code",
   "execution_count": 24,
   "metadata": {},
   "outputs": [],
   "source": [
    "# diagonalize the Hamiltonian yielding the wavefunctions and energies\n",
    "E, V = diagonalize_hamiltonian(Hamiltonian)"
   ]
  },
  {
   "cell_type": "markdown",
   "metadata": {},
   "source": [
    "Dagoeneko metodo guztiak ditugu, beraz numerikoki lortutako emaitzak aztertuko ditugu:"
   ]
  },
  {
   "cell_type": "code",
   "execution_count": 25,
   "metadata": {},
   "outputs": [],
   "source": [
    "# zenbat energia maila aztertuko ditugu\n",
    "n = 8"
   ]
  },
  {
   "cell_type": "code",
   "execution_count": 26,
   "metadata": {},
   "outputs": [
    {
     "name": "stdout",
     "output_type": "stream",
     "text": [
      " lowest bound state energies:\n",
      "E(1) = -195.08\n",
      "E(2) = -180.30\n",
      "E(3) = -155.68\n",
      "E(4) = -121.20\n",
      "E(5) = -76.88\n",
      "E(6) = -22.70\n",
      "E(7) = 41.32\n",
      "E(8) = 115.19\n"
     ]
    }
   ],
   "source": [
    "print (\" lowest bound state energies:\")\n",
    "for i in range(n):\n",
    "    print ('E(%g) = %.2f'%(i+1,E[i]))"
   ]
  },
  {
   "cell_type": "code",
   "execution_count": 27,
   "metadata": {},
   "outputs": [
    {
     "data": {
      "text/plain": [
       "Text(0,0.5,'Energy / (a.u.)')"
      ]
     },
     "execution_count": 27,
     "metadata": {},
     "output_type": "execute_result"
    },
    {
     "data": {
      "image/png": "[encoded data removed]",
      "text/plain": [
       "<Figure size 432x576 with 1 Axes>"
      ]
     },
     "metadata": {
      "needs_background": "light"
     },
     "output_type": "display_data"
    }
   ],
   "source": [
    "fig, ax = plt.subplots(figsize=(6,8))\n",
    "for i, v in enumerate(V.transpose()[:n]):\n",
    "    #V_new, ScaleFactor = infinite_well_plot_scaling(E,V,xvec,W)\n",
    "    color=mpl.cm.jet_r((i)/(float)(n-1),1)\n",
    "    ax.plot(xvec, 100*v + E[i], c=color)\n",
    "    ax.axhline(E[i], c=color, ls='--')\n",
    "ax.plot(xvec, U, c='gray', lw=5)\n",
    "ax.set_xlim(xvec[0], xvec[-1])\n",
    "#x.set_ylim(-E[0], E[n])\n",
    "ax.set_xlabel('L', fontsize=14)\n",
    "# set y label\n",
    "ax.set_ylabel('Energy / (a.u.)', fontsize=14)"
   ]
  },
  {
   "cell_type": "markdown",
   "metadata": {},
   "source": [
    "1. Nola aldatzen dira energia mailak putzuaren altuerarekin ?\n",
    "2. Nola aldatzen dira uhin funtzioak putzuaren altuerarekin ?\n",
    "3. Zein da diferentzia nabarmenena atzoko adibidearekin (partikula kaxa batean) ?"
   ]
  },
  {
   "cell_type": "markdown",
   "metadata": {},
   "source": []
  },
  {
   "cell_type": "code",
   "execution_count": null,
   "metadata": {},
   "outputs": [],
   "source": []
  }
 ],
 "metadata": {
  "kernelspec": {
   "display_name": "Python 2",
   "language": "python",
   "name": "python2"
  },
  "language_info": {
   "codemirror_mode": {
    "name": "ipython",
    "version": 2
   },
   "file_extension": ".py",
   "mimetype": "text/x-python",
   "name": "python",
   "nbconvert_exporter": "python",
   "pygments_lexer": "ipython2",
   "version": "2.7.10"
  }
 },
 "nbformat": 4,
 "nbformat_minor": 2
}
